{
 "cells": [
  {
   "cell_type": "code",
   "execution_count": 4,
   "metadata": {},
   "outputs": [
    {
     "name": "stdout",
     "output_type": "stream",
     "text": [
      "['concatenate', 'concatenate_1', 'flatten', 'flatten_1', 'flatten_2', 'flatten_3', 'item_input', 'layer1', 'layer2', 'layer3', 'mf_embedding_item', 'mf_embedding_user', 'mlp_embedding_item', 'mlp_embedding_user', 'multiply', 'prediction', 'top_level_model_weights', 'user_input']\n",
      "[]\n",
      "<HDF5 group \"/user_input\" (0 members)>\n"
     ]
    },
    {
     "ename": "TypeError",
     "evalue": "Accessing a group is done with bytes or str, not <class 'slice'>",
     "output_type": "error",
     "traceback": [
      "\u001b[1;31m---------------------------------------------------------------------------\u001b[0m",
      "\u001b[1;31mTypeError\u001b[0m                                 Traceback (most recent call last)",
      "Cell \u001b[1;32mIn[4], line 16\u001b[0m\n\u001b[0;32m     14\u001b[0m \u001b[39mprint\u001b[39m(data_1)\n\u001b[0;32m     15\u001b[0m \u001b[39m# print(data_2)\u001b[39;00m\n\u001b[1;32m---> 16\u001b[0m row_1 \u001b[39m=\u001b[39m data_1[:]\n\u001b[0;32m     17\u001b[0m \u001b[39m# row_2 = data_2[0]\u001b[39;00m\n\u001b[0;32m     18\u001b[0m \u001b[39mprint\u001b[39m(\u001b[39m'\u001b[39m\u001b[39mW :\u001b[39m\u001b[39m'\u001b[39m,row_1)\n",
      "File \u001b[1;32mh5py\\_objects.pyx:54\u001b[0m, in \u001b[0;36mh5py._objects.with_phil.wrapper\u001b[1;34m()\u001b[0m\n",
      "File \u001b[1;32mh5py\\_objects.pyx:55\u001b[0m, in \u001b[0;36mh5py._objects.with_phil.wrapper\u001b[1;34m()\u001b[0m\n",
      "File \u001b[1;32mc:\\Users\\SSAFY\\Desktop\\Pjt_3\\S08P31A207\\AI\\venv\\lib\\site-packages\\h5py\\_hl\\group.py:359\u001b[0m, in \u001b[0;36mGroup.__getitem__\u001b[1;34m(self, name)\u001b[0m\n\u001b[0;32m    357\u001b[0m     oid \u001b[39m=\u001b[39m h5o\u001b[39m.\u001b[39mopen(\u001b[39mself\u001b[39m\u001b[39m.\u001b[39mid, \u001b[39mself\u001b[39m\u001b[39m.\u001b[39m_e(name), lapl\u001b[39m=\u001b[39m\u001b[39mself\u001b[39m\u001b[39m.\u001b[39m_lapl)\n\u001b[0;32m    358\u001b[0m \u001b[39melse\u001b[39;00m:\n\u001b[1;32m--> 359\u001b[0m     \u001b[39mraise\u001b[39;00m \u001b[39mTypeError\u001b[39;00m(\u001b[39m\"\u001b[39m\u001b[39mAccessing a group is done with bytes or str, \u001b[39m\u001b[39m\"\u001b[39m\n\u001b[0;32m    360\u001b[0m                     \u001b[39m\"\u001b[39m\u001b[39mnot \u001b[39m\u001b[39m{}\u001b[39;00m\u001b[39m\"\u001b[39m\u001b[39m.\u001b[39mformat(\u001b[39mtype\u001b[39m(name)))\n\u001b[0;32m    362\u001b[0m otype \u001b[39m=\u001b[39m h5i\u001b[39m.\u001b[39mget_type(oid)\n\u001b[0;32m    363\u001b[0m \u001b[39mif\u001b[39;00m otype \u001b[39m==\u001b[39m h5i\u001b[39m.\u001b[39mGROUP:\n",
      "\u001b[1;31mTypeError\u001b[0m: Accessing a group is done with bytes or str, not <class 'slice'>"
     ]
    }
   ],
   "source": [
    "import h5py\n",
    "\n",
    "# HDF5 파일 열기\n",
    "file = h5py.File('./Pretrain/my_model.h5', 'r')\n",
    "\n",
    "# 데이터셋 이름 확인\n",
    "print(list(file.keys()))\n",
    "\n",
    "print(list(file['user_input'].keys()))\n",
    "\n",
    "# 데이터 읽기\n",
    "data_1 = file['user_input']\n",
    "# data_2 = file['prediction/prediction_b']\n",
    "print(data_1)\n",
    "# print(data_2)\n",
    "row_1 = data_1[:]\n",
    "# row_2 = data_2[0]\n",
    "print('W :',row_1)\n",
    "# print('b :', row_2)\n",
    "print('w의 평균값 : ',sum(row_1)/len(row_1))\n",
    "# 파일 닫기\n",
    "file.close()"
   ]
  }
 ],
 "metadata": {
  "kernelspec": {
   "display_name": "venv",
   "language": "python",
   "name": "python3"
  },
  "language_info": {
   "codemirror_mode": {
    "name": "ipython",
    "version": 3
   },
   "file_extension": ".py",
   "mimetype": "text/x-python",
   "name": "python",
   "nbconvert_exporter": "python",
   "pygments_lexer": "ipython3",
   "version": "3.10.11"
  },
  "orig_nbformat": 4
 },
 "nbformat": 4,
 "nbformat_minor": 2
}
