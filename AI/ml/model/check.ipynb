{
 "cells": [
  {
   "cell_type": "code",
   "execution_count": 23,
   "metadata": {},
   "outputs": [
    {
     "name": "stdout",
     "output_type": "stream",
     "text": [
      "['flatten_1', 'flatten_2', 'item_embedding', 'item_input', 'merge_1', 'prediction', 'user_embedding', 'user_input']\n",
      "[]\n",
      "<HDF5 dataset \"prediction_W\": shape (8, 1), type \"<f4\">\n",
      "<HDF5 dataset \"prediction_b\": shape (1,), type \"<f4\">\n",
      "[[ 0.282638  ]\n",
      " [ 0.344043  ]\n",
      " [-0.30088907]\n",
      " [-0.23590904]\n",
      " [ 0.24718747]\n",
      " [ 0.48775053]\n",
      " [ 0.30848902]\n",
      " [-0.24204965]]\n",
      "0.94720215\n"
     ]
    }
   ],
   "source": [
    "import h5py\n",
    "\n",
    "# HDF5 파일 열기\n",
    "file = h5py.File('./Pretrain/ml-1m_GMF_8_1501651698.h5', 'r')\n",
    "\n",
    "# 데이터셋 이름 확인\n",
    "print(list(file.keys()))\n",
    "\n",
    "print(list(file['item_input'].keys()))\n",
    "\n",
    "# 데이터 읽기\n",
    "data_1 = file['prediction/prediction_W']\n",
    "data_2 = file['prediction/prediction_b']\n",
    "print(data_1)\n",
    "print(data_2)\n",
    "row_1 = data_1[:]\n",
    "row_2 = data_2[0]\n",
    "print(row_1)\n",
    "print(row_2)\n",
    "\n",
    "# 파일 닫기\n",
    "file.close()"
   ]
  }
 ],
 "metadata": {
  "kernelspec": {
   "display_name": "venv",
   "language": "python",
   "name": "python3"
  },
  "language_info": {
   "codemirror_mode": {
    "name": "ipython",
    "version": 3
   },
   "file_extension": ".py",
   "mimetype": "text/x-python",
   "name": "python",
   "nbconvert_exporter": "python",
   "pygments_lexer": "ipython3",
   "version": "3.10.11"
  },
  "orig_nbformat": 4
 },
 "nbformat": 4,
 "nbformat_minor": 2
}
